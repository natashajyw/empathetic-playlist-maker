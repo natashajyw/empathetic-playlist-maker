{
 "cells": [
  {
   "cell_type": "code",
   "execution_count": 1,
   "metadata": {},
   "outputs": [],
   "source": [
    "import asyncio\n",
    "\n",
    "from hume import HumeStreamClient\n",
    "from hume.models.config import LanguageConfig\n",
    "\n",
    "samples = [\n",
    "    \"i want to go home,\"\n",
    "]\n",
    "\n",
    "async def main():\n",
    "    client = HumeStreamClient(\"7kBEBKHVRNGmYD4OQfIusARM8g40nvEGf5cXpUiAeohJZhCE\")\n",
    "    config = LanguageConfig()\n",
    "    async with client.connect([config]) as socket:\n",
    "        for sample in samples:\n",
    "            result = await socket.send_text(sample)\n",
    "            emotions = result[\"language\"][\"predictions\"][0][\"emotions\"]\n",
    "            return emotions\n"
   ]
  },
  {
   "cell_type": "code",
   "execution_count": 2,
   "metadata": {},
   "outputs": [
    {
     "name": "stdout",
     "output_type": "stream",
     "text": [
      "[{'name': 'Admiration', 'score': 0.011976843699812889}, {'name': 'Adoration', 'score': 0.006969508249312639}, {'name': 'Aesthetic Appreciation', 'score': 0.036237120628356934}, {'name': 'Amusement', 'score': 0.024445312097668648}, {'name': 'Anger', 'score': 0.0038608023896813393}, {'name': 'Annoyance', 'score': 0.03319573402404785}, {'name': 'Anxiety', 'score': 0.012165426276624203}, {'name': 'Awe', 'score': 0.007941605523228645}, {'name': 'Awkwardness', 'score': 0.060499273240566254}, {'name': 'Boredom', 'score': 0.08796476572751999}, {'name': 'Calmness', 'score': 0.060179322957992554}, {'name': 'Concentration', 'score': 0.042922575026750565}, {'name': 'Confusion', 'score': 0.38062015175819397}, {'name': 'Contemplation', 'score': 0.03579483926296234}, {'name': 'Contempt', 'score': 0.01230634842067957}, {'name': 'Contentment', 'score': 0.018063776195049286}, {'name': 'Craving', 'score': 0.005353424698114395}, {'name': 'Determination', 'score': 0.0072873421013355255}, {'name': 'Disappointment', 'score': 0.022648807615041733}, {'name': 'Disapproval', 'score': 0.009229651652276516}, {'name': 'Disgust', 'score': 0.0037117842584848404}, {'name': 'Distress', 'score': 0.015114695765078068}, {'name': 'Doubt', 'score': 0.04292953386902809}, {'name': 'Ecstasy', 'score': 0.005256944335997105}, {'name': 'Embarrassment', 'score': 0.009705603122711182}, {'name': 'Empathic Pain', 'score': 0.01068427599966526}, {'name': 'Enthusiasm', 'score': 0.008773347362875938}, {'name': 'Entrancement', 'score': 0.016170313581824303}, {'name': 'Envy', 'score': 0.005352702457457781}, {'name': 'Excitement', 'score': 0.005057620350271463}, {'name': 'Fear', 'score': 0.0050605060532689095}, {'name': 'Gratitude', 'score': 0.002303122775629163}, {'name': 'Guilt', 'score': 0.0032850694842636585}, {'name': 'Horror', 'score': 0.0026473472826182842}, {'name': 'Interest', 'score': 0.055200301110744476}, {'name': 'Joy', 'score': 0.010119620710611343}, {'name': 'Love', 'score': 0.006826970260590315}, {'name': 'Nostalgia', 'score': 0.005785210523754358}, {'name': 'Pain', 'score': 0.014932258985936642}, {'name': 'Pride', 'score': 0.005206546746194363}, {'name': 'Realization', 'score': 0.030896615236997604}, {'name': 'Relief', 'score': 0.006573359481990337}, {'name': 'Romance', 'score': 0.006089975591748953}, {'name': 'Sadness', 'score': 0.013959860429167747}, {'name': 'Sarcasm', 'score': 0.012266322039067745}, {'name': 'Satisfaction', 'score': 0.01871100254356861}, {'name': 'Desire', 'score': 0.014167006127536297}, {'name': 'Shame', 'score': 0.011058519594371319}, {'name': 'Surprise (negative)', 'score': 0.05724244937300682}, {'name': 'Surprise (positive)', 'score': 0.020418882369995117}, {'name': 'Sympathy', 'score': 0.01792030781507492}, {'name': 'Tiredness', 'score': 0.03227132931351662}, {'name': 'Triumph', 'score': 0.008216607384383678}]\n"
     ]
    }
   ],
   "source": [
    "list = await main()\n",
    "print(list)\n",
    "#await main()"
   ]
  }
 ],
 "metadata": {
  "kernelspec": {
   "display_name": ".venv",
   "language": "python",
   "name": "python3"
  },
  "language_info": {
   "codemirror_mode": {
    "name": "ipython",
    "version": 3
   },
   "file_extension": ".py",
   "mimetype": "text/x-python",
   "name": "python",
   "nbconvert_exporter": "python",
   "pygments_lexer": "ipython3",
   "version": "3.9.18"
  }
 },
 "nbformat": 4,
 "nbformat_minor": 2
}
